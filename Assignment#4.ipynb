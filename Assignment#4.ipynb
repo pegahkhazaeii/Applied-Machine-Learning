{
 "cells": [
  {
   "cell_type": "markdown",
   "metadata": {},
   "source": [
    "# In this work, we are going to predict the future of the changes in the word effected by a coronavirus. We have a folder of .csv files. These files, all in one, are time-series data that describe the number of death, confirm and recovered people as time goes on.\n",
    "## All steps are as follows:\n",
    "1. Read and concatenate all the csv files(just using Deaths, Confirmed and Recovered columns fo columns).\n",
    "2. Groupe each data frame by Country/Region and append them to the new three data frames death, confirm and recover in a special format.\n",
    "3. Fill Null points with zero.\n",
    "4. Plot eight first country during the time which have the most total \"confirmed\".\n",
    "5. Then we plot each feature(Deaths, Confirmed and Recovered) seperatedly based on total world changes during the time. \n",
    "6. We first ready data for sklearn and prediction(X, Y) and the use all the dataset to predict the futrue death without train test split.\n",
    "7. The next step is Linear prediction for each feature. We fist use past iformation of the any features to predict it's situation in the future. We the use all the feature to predict the future and in the this case we use each of the features as target in three different linear regression model.\n",
    "8. In this step we use polynomial type of linear regression. We first calculate polynomial features of the each feature, using scikit-learn package and then predict itself as target. Then we use all three feature and tarin a model on their polynomial featrues.\n",
    "9. In steps 6 and 7 we will plot the model prediction and real target values in the separate plot tow show the quality of each model.\n",
    "10. In the previous steps we use only one past sample to predict the future. So in the last step we will try to use more information about the past to train better model and predict death in the future."
   ]
  },
  {
   "cell_type": "code",
   "execution_count": 161,
   "metadata": {},
   "outputs": [],
   "source": [
    "import os\n",
    "import glob\n",
    "import numpy as np \n",
    "import pandas as pd\n",
    "import matplotlib.pyplot as plt \n",
    "\n",
    "# sklearn modules.\n",
    "from sklearn.linear_model import LinearRegression\n",
    "from sklearn.model_selection import train_test_split\n",
    "from sklearn.metrics import mean_squared_error\n",
    "from sklearn.preprocessing import PolynomialFeatures\n",
    "from sklearn.preprocessing import Normalizer, MinMaxScaler\n",
    "from sklearn.decomposition import PCA"
   ]
  },
  {
   "cell_type": "code",
   "execution_count": 162,
   "metadata": {},
   "outputs": [
    {
     "name": "stdout",
     "output_type": "stream",
     "text": [
      "01-22-2020\n"
     ]
    },
    {
     "data": {
      "text/html": [
       "<div>\n",
       "<style scoped>\n",
       "    .dataframe tbody tr th:only-of-type {\n",
       "        vertical-align: middle;\n",
       "    }\n",
       "\n",
       "    .dataframe tbody tr th {\n",
       "        vertical-align: top;\n",
       "    }\n",
       "\n",
       "    .dataframe thead th {\n",
       "        text-align: right;\n",
       "    }\n",
       "</style>\n",
       "<table border=\"1\" class=\"dataframe\">\n",
       "  <thead>\n",
       "    <tr style=\"text-align: right;\">\n",
       "      <th></th>\n",
       "      <th>Confirmed</th>\n",
       "      <th>Deaths</th>\n",
       "      <th>Recovered</th>\n",
       "    </tr>\n",
       "    <tr>\n",
       "      <th>Country/Region</th>\n",
       "      <th></th>\n",
       "      <th></th>\n",
       "      <th></th>\n",
       "    </tr>\n",
       "  </thead>\n",
       "  <tbody>\n",
       "    <tr>\n",
       "      <th>Hong Kong</th>\n",
       "      <td>0.0</td>\n",
       "      <td>0.0</td>\n",
       "      <td>0.0</td>\n",
       "    </tr>\n",
       "    <tr>\n",
       "      <th>Japan</th>\n",
       "      <td>2.0</td>\n",
       "      <td>0.0</td>\n",
       "      <td>0.0</td>\n",
       "    </tr>\n",
       "    <tr>\n",
       "      <th>Macau</th>\n",
       "      <td>1.0</td>\n",
       "      <td>0.0</td>\n",
       "      <td>0.0</td>\n",
       "    </tr>\n",
       "    <tr>\n",
       "      <th>Mainland China</th>\n",
       "      <td>547.0</td>\n",
       "      <td>17.0</td>\n",
       "      <td>28.0</td>\n",
       "    </tr>\n",
       "    <tr>\n",
       "      <th>South Korea</th>\n",
       "      <td>1.0</td>\n",
       "      <td>0.0</td>\n",
       "      <td>0.0</td>\n",
       "    </tr>\n",
       "    <tr>\n",
       "      <th>Taiwan</th>\n",
       "      <td>1.0</td>\n",
       "      <td>0.0</td>\n",
       "      <td>0.0</td>\n",
       "    </tr>\n",
       "    <tr>\n",
       "      <th>Thailand</th>\n",
       "      <td>2.0</td>\n",
       "      <td>0.0</td>\n",
       "      <td>0.0</td>\n",
       "    </tr>\n",
       "    <tr>\n",
       "      <th>US</th>\n",
       "      <td>1.0</td>\n",
       "      <td>0.0</td>\n",
       "      <td>0.0</td>\n",
       "    </tr>\n",
       "  </tbody>\n",
       "</table>\n",
       "</div>"
      ],
      "text/plain": [
       "                Confirmed  Deaths  Recovered\n",
       "Country/Region                              \n",
       "Hong Kong             0.0     0.0        0.0\n",
       "Japan                 2.0     0.0        0.0\n",
       "Macau                 1.0     0.0        0.0\n",
       "Mainland China      547.0    17.0       28.0\n",
       "South Korea           1.0     0.0        0.0\n",
       "Taiwan                1.0     0.0        0.0\n",
       "Thailand              2.0     0.0        0.0\n",
       "US                    1.0     0.0        0.0"
      ]
     },
     "execution_count": 162,
     "metadata": {},
     "output_type": "execute_result"
    }
   ],
   "source": [
    "time_series_files_list = glob.glob(\"COVID-19-master\\\\csse_covid_19_data\\\\csse_covid_19_daily_reports\\\\*.csv\")\n",
    "print(time_series_files_list[0].split(\"\\\\\")[-1][:-4])\n",
    "df = pd.read_csv(time_series_files_list[0])\n",
    "df.groupby(\"Country/Region\").sum()"
   ]
  },
  {
   "cell_type": "markdown",
   "metadata": {},
   "source": [
    "# Load data."
   ]
  },
  {
   "cell_type": "code",
   "execution_count": 163,
   "metadata": {},
   "outputs": [],
   "source": [
    "for i, item in enumerate(time_series_files_list):\n",
    "    # load dataframe.\n",
    "    df = pd.read_csv(item)\n",
    "\n",
    "    # group dataframe by Country/Region.\n",
    "    grouped = df.groupby(\"Country/Region\").sum()\n",
    "\n",
    "    column_name = [item.split(\"\\\\\")[-1][:-4]]\n",
    "    \n",
    "    if i == 0:\n",
    "        # create Deaths\n",
    "        temp_df = pd.DataFrame(grouped[\"Deaths\"])\n",
    "        temp_df.columns = column_name\n",
    "        death = temp_df.T.copy()\n",
    "\n",
    "        # create Deaths\n",
    "        temp_df = pd.DataFrame(grouped[\"Recovered\"])\n",
    "        temp_df.columns = column_name\n",
    "        recover = temp_df.T.copy()\n",
    "\n",
    "        # create Confirmed\n",
    "        temp_df = pd.DataFrame(grouped[\"Confirmed\"])\n",
    "        temp_df.columns = column_name\n",
    "        confirm = temp_df.T.copy()\n",
    "    else:\n",
    "        # add Deaths\n",
    "        temp_df = pd.DataFrame(grouped[\"Deaths\"])\n",
    "        temp_df.columns = column_name\n",
    "        death = death.append(temp_df.T, sort=False)\n",
    "\n",
    "        # add Deaths\n",
    "        temp_df = pd.DataFrame(grouped[\"Recovered\"])\n",
    "        temp_df.columns = column_name\n",
    "        recover = recover.append(temp_df.T, sort=False)\n",
    "\n",
    "        # add Confirmed\n",
    "        temp_df = pd.DataFrame(grouped[\"Confirmed\"])\n",
    "        temp_df.columns = column_name\n",
    "        confirm = confirm.append(temp_df.T, sort=False)"
   ]
  },
  {
   "cell_type": "code",
   "execution_count": 164,
   "metadata": {},
   "outputs": [],
   "source": [
    "# fill null values with 0.0 and sort dataset based on index values.\n",
    "death = death.fillna(0).sort_index()\n",
    "recover = recover.fillna(0.0).sort_index()\n",
    "confirm = confirm.fillna(0.0).sort_index()"
   ]
  },
  {
   "cell_type": "code",
   "execution_count": 165,
   "metadata": {},
   "outputs": [
    {
     "name": "stdout",
     "output_type": "stream",
     "text": [
      "Five first: \n",
      "\n",
      "China           80977.0\n",
      "Italy           21157.0\n",
      "Iran            12729.0\n",
      "Korea, South     8086.0\n",
      "Spain            6391.0\n",
      "Name: 03-14-2020, dtype: float64\n"
     ]
    }
   ],
   "source": [
    "print(\"Five first: \\n\")\n",
    "print(confirm.iloc[-1, :].sort_values(ascending=False)[0:5])"
   ]
  },
  {
   "cell_type": "markdown",
   "metadata": {},
   "source": [
    "# plot eight first country during the time which have the most total \"confirmed\""
   ]
  },
  {
   "cell_type": "code",
   "execution_count": 166,
   "metadata": {},
   "outputs": [
    {
     "data": {
      "text/plain": [
       "Index(['China', 'Italy', 'Iran', 'South Korea', 'Korea, South', 'Spain',\n",
       "       'France'],\n",
       "      dtype='object')"
      ]
     },
     "execution_count": 166,
     "metadata": {},
     "output_type": "execute_result"
    },
    {
     "data": {
      "image/png": "[encoded data removed]",
      "text/plain": [
       "<Figure size 1080x720 with 1 Axes>"
      ]
     },
     "metadata": {
      "needs_background": "light"
     },
     "output_type": "display_data"
    }
   ],
   "source": [
    "\"\"\" We do not use the \"Mainland China\". Because the different is really high and we can't \n",
    "plot other information correctly.\n",
    "\"\"\"\n",
    "index = confirm.sum(axis=0).sort_values(ascending=False)[1:8].index\n",
    "confirm[list(index)].plot(figsize=(15, 10))\n",
    "index"
   ]
  },
  {
   "cell_type": "markdown",
   "metadata": {},
   "source": [
    "# plot different information on different plots for total world information."
   ]
  },
  {
   "cell_type": "markdown",
   "metadata": {},
   "source": [
    "### death plot"
   ]
  },
  {
   "cell_type": "code",
   "execution_count": 167,
   "metadata": {},
   "outputs": [
    {
     "data": {
      "image/png": "[encoded data removed]",
      "text/plain": [
       "<Figure size 720x720 with 1 Axes>"
      ]
     },
     "metadata": {
      "needs_background": "light"
     },
     "output_type": "display_data"
    }
   ],
   "source": [
    "plt.figure(figsize=(10, 10))\n",
    "death.sum(axis=1).plot(color='r', label=\"number of death in the world over time\")\n",
    "plt.legend(loc=\"upper left\")\n",
    "_ = plt.xticks(rotation=90)"
   ]
  },
  {
   "cell_type": "markdown",
   "metadata": {},
   "source": [
    "### recovered plot"
   ]
  },
  {
   "cell_type": "code",
   "execution_count": 168,
   "metadata": {},
   "outputs": [
    {
     "data": {
      "image/png": "[encoded data removed]",
      "text/plain": [
       "<Figure size 720x720 with 1 Axes>"
      ]
     },
     "metadata": {
      "needs_background": "light"
     },
     "output_type": "display_data"
    }
   ],
   "source": [
    "plt.figure(figsize=(10, 10))\n",
    "recover.sum(axis=1).plot(color='g', label=\"number of recover int the world over time\")\n",
    "plt.legend(loc=\"upper left\")\n",
    "_ = plt.xticks(rotation=90)"
   ]
  },
  {
   "cell_type": "markdown",
   "metadata": {},
   "source": [
    "### confirmed plot"
   ]
  },
  {
   "cell_type": "code",
   "execution_count": 169,
   "metadata": {},
   "outputs": [
    {
     "data": {
      "image/png": "[encoded data removed]",
      "text/plain": [
       "<Figure size 720x720 with 1 Axes>"
      ]
     },
     "metadata": {
      "needs_background": "light"
     },
     "output_type": "display_data"
    }
   ],
   "source": [
    "plt.figure(figsize=(10, 10))\n",
    "confirm.sum(axis=1).plot(color='b', label=\"number of confirm in the world over time\")\n",
    "plt.legend(loc=\"upper left\")\n",
    "_ = plt.xticks(rotation=90)"
   ]
  },
  {
   "cell_type": "markdown",
   "metadata": {},
   "source": [
    "# plot different countries information"
   ]
  },
  {
   "cell_type": "code",
   "execution_count": 170,
   "metadata": {},
   "outputs": [
    {
     "data": {
      "text/plain": [
       "Index(['Hong Kong', 'Japan', 'Macau', 'Mainland China', 'South Korea',\n",
       "       'Taiwan', 'Thailand', 'US', 'Australia', 'Brazil',\n",
       "       ...\n",
       "       'Mauritania', 'Namibia', 'Rwanda', 'Saint Lucia',\n",
       "       'Saint Vincent and the Grenadines', 'Seychelles', 'Suriname',\n",
       "       'Trinidad and Tobago', 'Uruguay', 'Venezuela'],\n",
       "      dtype='object', length=171)"
      ]
     },
     "execution_count": 170,
     "metadata": {},
     "output_type": "execute_result"
    },
    {
     "data": {
      "image/png": "[encoded data removed]",
      "text/plain": [
       "<Figure size 720x360 with 1 Axes>"
      ]
     },
     "metadata": {
      "needs_background": "light"
     },
     "output_type": "display_data"
    }
   ],
   "source": [
    "confirm[\"US\"].plot(figsize=(10,5), grid=True, label=\"US\")\n",
    "confirm[\"Japan\"].plot(figsize=(10,5), grid=True, label=\"Japan\")\n",
    "confirm[\"France\"].plot(figsize=(10,5), grid=True, label=\"France\")\n",
    "plt.legend(loc=\"upper left\")\n",
    "confirm.columns"
   ]
  },
  {
   "cell_type": "markdown",
   "metadata": {},
   "source": [
    "# 1. Linear Prediction"
   ]
  },
  {
   "cell_type": "markdown",
   "metadata": {},
   "source": [
    "## make data ready for prediction"
   ]
  },
  {
   "cell_type": "code",
   "execution_count": 171,
   "metadata": {},
   "outputs": [],
   "source": [
    "num_rows = death.shape[0] - 1\n",
    "num_cols = death.shape[1]\n",
    "\n",
    "X = np.zeros((num_rows*num_cols, 3))\n",
    "Y = np.zeros((num_rows*num_cols, 3))\n",
    "\n",
    "for i in range(num_cols):\n",
    "    X[i*num_rows:(i+1)*num_rows, 0] = death.iloc[:-1, i].values\n",
    "    X[i*num_rows:(i+1)*num_rows, 1] = confirm.iloc[:-1, i].values\n",
    "    X[i*num_rows:(i+1)*num_rows, 2] = recover.iloc[:-1, i].values\n",
    "    \n",
    "    Y[i*num_rows:(i+1)*num_rows, 0] = death.iloc[1:, i].values\n",
    "    Y[i*num_rows:(i+1)*num_rows, 1] = confirm.iloc[1:, i].values\n",
    "    Y[i*num_rows:(i+1)*num_rows, 2] = recover.iloc[1:, i].values"
   ]
  },
  {
   "cell_type": "code",
   "execution_count": 172,
   "metadata": {},
   "outputs": [
    {
     "name": "stdout",
     "output_type": "stream",
     "text": [
      "Death:  8376\n",
      "confirm:  6323\n",
      "recover:  7697\n"
     ]
    }
   ],
   "source": [
    "print(\"Death: \",   (Y[:, 0] == 0.).sum())\n",
    "print(\"confirm: \", (Y[:, 1] == 0.).sum())\n",
    "print(\"recover: \", (Y[:, 2] == 0.).sum())"
   ]
  },
  {
   "cell_type": "markdown",
   "metadata": {},
   "source": [
    "## 1.1 linear prediction using all the dataset to predict future death(without test)."
   ]
  },
  {
   "cell_type": "code",
   "execution_count": 173,
   "metadata": {},
   "outputs": [
    {
     "name": "stdout",
     "output_type": "stream",
     "text": [
      "model Intercept:  0.5319079903068697\n",
      "model:  [ 1.28778585 -0.00262456 -0.01660459]\n"
     ]
    }
   ],
   "source": [
    "death_model = LinearRegression(fit_intercept=True, normalize=True, copy_X=True, n_jobs=None).fit(X, Y[:, 0])\n",
    "print(\"model Intercept: \", death_model.intercept_)\n",
    "print(\"model: \", death_model.coef_)"
   ]
  },
  {
   "cell_type": "code",
   "execution_count": 174,
   "metadata": {},
   "outputs": [
    {
     "name": "stdout",
     "output_type": "stream",
     "text": [
      "Training Score is:  0.9163032587304769\n"
     ]
    }
   ],
   "source": [
    "# get prediction score on trainning and test data\n",
    "print(\"Training Score is: \", death_model.score(X, Y[:, 0]))"
   ]
  },
  {
   "cell_type": "code",
   "execution_count": 175,
   "metadata": {},
   "outputs": [
    {
     "name": "stdout",
     "output_type": "stream",
     "text": [
      "Training Model MSE is:  2193.296677211266\n"
     ]
    }
   ],
   "source": [
    "# model MSE\n",
    "train_model_mse = mean_squared_error(death_model.predict(X), Y[:, 0])\n",
    "\n",
    "print(\"Training Model MSE is: \", train_model_mse)"
   ]
  },
  {
   "cell_type": "code",
   "execution_count": 176,
   "metadata": {},
   "outputs": [],
   "source": [
    "# first generate prediction over train and test featrues the reduce them to the new dimension.\n",
    "train_predicted = death_model.predict(X)\n",
    "\n",
    "# Using PCA to reduce features dimention.\n",
    "pca_reduction = PCA(n_components=1).fit(X)\n",
    "X_train = pca_reduction.transform(X)"
   ]
  },
  {
   "cell_type": "code",
   "execution_count": 177,
   "metadata": {},
   "outputs": [
    {
     "data": {
      "image/png": "[encoded data removed]",
      "text/plain": [
       "<Figure size 720x360 with 1 Axes>"
      ]
     },
     "metadata": {
      "needs_background": "light"
     },
     "output_type": "display_data"
    }
   ],
   "source": [
    "plt.figure(figsize=(10, 5))\n",
    "plt.scatter(X_train, Y[:, 0], color=\"b\")\n",
    "plt.scatter(X_train, train_predicted, color=\"r\")\n",
    "plt.legend([\"Train\", \"Pretict\"], loc=\"upper left\")\n",
    "plt.title(\"Death Train\")\n",
    "plt.show()"
   ]
  },
  {
   "cell_type": "markdown",
   "metadata": {},
   "source": [
    "## 1.2 Using just One feature to predict themselves"
   ]
  },
  {
   "cell_type": "markdown",
   "metadata": {},
   "source": [
    "### 1.2.1 we will use death feature to buld a linear model for predecting future death."
   ]
  },
  {
   "cell_type": "code",
   "execution_count": 178,
   "metadata": {},
   "outputs": [],
   "source": [
    "X_train, X_test, y_train, y_test = train_test_split(X[:, 0].reshape(-1, 1), Y[:, 0], test_size=0.2, random_state=42)"
   ]
  },
  {
   "cell_type": "code",
   "execution_count": 179,
   "metadata": {},
   "outputs": [
    {
     "name": "stdout",
     "output_type": "stream",
     "text": [
      "model Intercept:  0.9213654140512126\n",
      "model:  [0.97032853]\n"
     ]
    }
   ],
   "source": [
    "death_model = LinearRegression(fit_intercept=True, normalize=True, copy_X=True, n_jobs=None).fit(X_train, y_train)\n",
    "print(\"model Intercept: \", death_model.intercept_)\n",
    "print(\"model: \", death_model.coef_)"
   ]
  },
  {
   "cell_type": "code",
   "execution_count": 180,
   "metadata": {},
   "outputs": [
    {
     "name": "stdout",
     "output_type": "stream",
     "text": [
      "Training Score is:  0.8970741839535257\n",
      "Testing  Score is:  0.9870074828364185\n"
     ]
    }
   ],
   "source": [
    "# get prediction score on trainning and test data\n",
    "print(\"Training Score is: \", death_model.score(X_train, y_train))\n",
    "print(\"Testing  Score is: \", death_model.score(X_test, y_test))"
   ]
  },
  {
   "cell_type": "code",
   "execution_count": 181,
   "metadata": {},
   "outputs": [
    {
     "name": "stdout",
     "output_type": "stream",
     "text": [
      "Training Model MSE is:  2866.646832753326\n",
      "Testing Model MSE is :  254.9281679195235\n"
     ]
    }
   ],
   "source": [
    "# model MSE\n",
    "train_model_mse = mean_squared_error(death_model.predict(X_train),y_train)\n",
    "test_model_mse = mean_squared_error(death_model.predict(X_test),y_test)\n",
    "\n",
    "print(\"Training Model MSE is: \", train_model_mse)\n",
    "print(\"Testing Model MSE is : \", test_model_mse)"
   ]
  },
  {
   "cell_type": "code",
   "execution_count": 182,
   "metadata": {},
   "outputs": [
    {
     "data": {
      "image/png": "[encoded data removed]",
      "text/plain": [
       "<Figure size 720x360 with 2 Axes>"
      ]
     },
     "metadata": {
      "needs_background": "light"
     },
     "output_type": "display_data"
    }
   ],
   "source": [
    "plt.figure(figsize=(10, 5))\n",
    "plt.subplot(1, 2, 1)\n",
    "plt.scatter(X_train, y_train, color=\"b\", label=\"Train\")\n",
    "plt.scatter(X_train, death_model.predict((X_train)), color=\"r\", label=\"Pretict\")\n",
    "plt.legend([\"Train\", \"Pretict\"], loc=\"upper left\")\n",
    "plt.title(\"Death Train\")\n",
    "\n",
    "plt.subplot(1, 2, 2)\n",
    "plt.scatter(X_test, y_test, color=\"b\", label=\"Test\")\n",
    "plt.scatter(X_test, death_model.predict((X_test)), color=\"r\", label=\"Pretict\")\n",
    "plt.legend([\"Test\", \"Pretict\"], loc=\"upper left\")\n",
    "plt.title(\"Death Test\")\n",
    "\n",
    "plt.show()"
   ]
  },
  {
   "cell_type": "markdown",
   "metadata": {},
   "source": [
    "### 1.2.2 we will use confirm feature to build a linear model for predecting future confirm."
   ]
  },
  {
   "cell_type": "code",
   "execution_count": 183,
   "metadata": {},
   "outputs": [],
   "source": [
    "X_train, X_test, y_train, y_test = train_test_split(X[:, 1].reshape(-1, 1), Y[:, 1], test_size=0.2, random_state=42)"
   ]
  },
  {
   "cell_type": "code",
   "execution_count": 184,
   "metadata": {},
   "outputs": [
    {
     "name": "stdout",
     "output_type": "stream",
     "text": [
      "model Intercept:  25.240394521293354\n",
      "model:  [0.96995528]\n"
     ]
    }
   ],
   "source": [
    "confirm_model = LinearRegression(fit_intercept=True, normalize=True, copy_X=True, n_jobs=None).fit(X_train, y_train)\n",
    "print(\"model Intercept: \", confirm_model.intercept_)\n",
    "print(\"model: \", confirm_model.coef_)"
   ]
  },
  {
   "cell_type": "code",
   "execution_count": 185,
   "metadata": {},
   "outputs": [
    {
     "name": "stdout",
     "output_type": "stream",
     "text": [
      "Training Score is:  0.9169570421417661\n",
      "Testing  Score is:  0.9881068444397373\n"
     ]
    }
   ],
   "source": [
    "# get prediction score on trainning and test data\n",
    "print(\"Training Score is: \", confirm_model.score(X_train, y_train))\n",
    "print(\"Testing  Score is: \", confirm_model.score(X_test, y_test))"
   ]
  },
  {
   "cell_type": "code",
   "execution_count": 186,
   "metadata": {
    "scrolled": true
   },
   "outputs": [
    {
     "name": "stdout",
     "output_type": "stream",
     "text": [
      "Training Model MSE is:  1913940.0782683394\n",
      "Testing Model MSE is :  238563.16963070197\n"
     ]
    }
   ],
   "source": [
    "# model MSE\n",
    "train_model_mse = mean_squared_error(confirm_model.predict(X_train),y_train)\n",
    "test_model_mse = mean_squared_error(confirm_model.predict(X_test),y_test)\n",
    "\n",
    "print(\"Training Model MSE is: \", train_model_mse)\n",
    "print(\"Testing Model MSE is : \", test_model_mse)"
   ]
  },
  {
   "cell_type": "code",
   "execution_count": 187,
   "metadata": {},
   "outputs": [
    {
     "data": {
      "image/png": "[encoded data removed]",
      "text/plain": [
       "<Figure size 720x360 with 2 Axes>"
      ]
     },
     "metadata": {
      "needs_background": "light"
     },
     "output_type": "display_data"
    }
   ],
   "source": [
    "plt.figure(figsize=(10, 5))\n",
    "plt.subplot(1, 2, 1)\n",
    "plt.scatter(X_train, y_train, color=\"b\", label=\"Train\")\n",
    "plt.scatter(X_train, confirm_model.predict((X_train)), color=\"r\", label=\"Pretict\")\n",
    "plt.legend([\"Train\", \"Pretict\"], loc=\"upper left\")\n",
    "plt.title(\"Death Train\")\n",
    "\n",
    "plt.subplot(1, 2, 2)\n",
    "plt.scatter(X_test, y_test, color=\"b\", label=\"Test\")\n",
    "plt.scatter(X_test, confirm_model.predict((X_test)), color=\"r\", label=\"Pretict\")\n",
    "plt.legend([\"Test\", \"Pretict\"], loc=\"upper left\")\n",
    "plt.title(\"Death Test\")\n",
    "\n",
    "plt.show()"
   ]
  },
  {
   "cell_type": "markdown",
   "metadata": {},
   "source": [
    "### 1.2.3 we will use recover feature to build a linear model for predecting future recover."
   ]
  },
  {
   "cell_type": "code",
   "execution_count": 188,
   "metadata": {},
   "outputs": [],
   "source": [
    "X_train, X_test, y_train, y_test = train_test_split(X[:, 2].reshape(-1, 1), Y[:, 2], test_size=0.2, random_state=42)"
   ]
  },
  {
   "cell_type": "code",
   "execution_count": 189,
   "metadata": {},
   "outputs": [
    {
     "name": "stdout",
     "output_type": "stream",
     "text": [
      "model Intercept:  14.592616102712128\n",
      "model:  [0.95605603]\n"
     ]
    }
   ],
   "source": [
    "recover_model = LinearRegression(fit_intercept=True, normalize=True, copy_X=True, n_jobs=None).fit(X_train, y_train)\n",
    "print(\"model Intercept: \", recover_model.intercept_)\n",
    "print(\"model: \", recover_model.coef_)"
   ]
  },
  {
   "cell_type": "code",
   "execution_count": 190,
   "metadata": {},
   "outputs": [
    {
     "name": "stdout",
     "output_type": "stream",
     "text": [
      "Training Score is:  0.8402341528802298\n",
      "Testing  Score is:  0.9914880892934735\n"
     ]
    }
   ],
   "source": [
    "# get prediction score on trainning and test data\n",
    "print(\"Training Score is: \", recover_model.score(X_train, y_train))\n",
    "print(\"Testing  Score is: \", recover_model.score(X_test, y_test))"
   ]
  },
  {
   "cell_type": "code",
   "execution_count": 191,
   "metadata": {},
   "outputs": [
    {
     "name": "stdout",
     "output_type": "stream",
     "text": [
      "Training Model MSE is:  1051685.4048875235\n",
      "Testing Model MSE is :  27827.851818203508\n"
     ]
    }
   ],
   "source": [
    "# model MSE\n",
    "train_model_mse = mean_squared_error(recover_model.predict(X_train),y_train)\n",
    "test_model_mse = mean_squared_error(recover_model.predict(X_test),y_test)\n",
    "\n",
    "print(\"Training Model MSE is: \", train_model_mse)\n",
    "print(\"Testing Model MSE is : \", test_model_mse)"
   ]
  },
  {
   "cell_type": "code",
   "execution_count": 192,
   "metadata": {},
   "outputs": [
    {
     "data": {
      "image/png": "[encoded data removed]",
      "text/plain": [
       "<Figure size 720x360 with 2 Axes>"
      ]
     },
     "metadata": {
      "needs_background": "light"
     },
     "output_type": "display_data"
    }
   ],
   "source": [
    "plt.figure(figsize=(10, 5))\n",
    "plt.subplot(1, 2, 1)\n",
    "plt.scatter(X_train, y_train, color=\"b\")\n",
    "plt.scatter(X_train, recover_model.predict((X_train)), color=\"r\")\n",
    "plt.legend([\"Train\", \"Pretict\"], loc=\"upper left\")\n",
    "plt.title(\"Death Train\")\n",
    "\n",
    "plt.subplot(1, 2, 2)\n",
    "plt.scatter(X_test, y_test, color=\"b\")\n",
    "plt.scatter(X_test, recover_model.predict((X_test)), color=\"r\")\n",
    "plt.legend([\"Test\", \"Pretict\"], loc=\"upper left\")\n",
    "plt.title(\"Death Test\")\n",
    "\n",
    "plt.show()"
   ]
  },
  {
   "cell_type": "markdown",
   "metadata": {},
   "source": [
    "## 1.3 Using all three features to build models."
   ]
  },
  {
   "cell_type": "markdown",
   "metadata": {},
   "source": [
    "### 1.3.1 we will use all of the three features to buld a mode for predecting future death.\n",
    "\n",
    "#### $NextDayDeath = \\left(\\alpha \\times TodayDeath\\right) + \\left(\\beta \\times TodayRecover\\right) + \\left(\\gamma \\times TodayConfirm\\right)$"
   ]
  },
  {
   "cell_type": "code",
   "execution_count": 193,
   "metadata": {},
   "outputs": [],
   "source": [
    "X_train, X_test, y_train, y_test = train_test_split(X, Y[:, 0], test_size=0.2, random_state=42)"
   ]
  },
  {
   "cell_type": "code",
   "execution_count": 194,
   "metadata": {},
   "outputs": [
    {
     "data": {
      "text/plain": [
       "LinearRegression(copy_X=True, fit_intercept=True, n_jobs=None, normalize=True)"
      ]
     },
     "execution_count": 194,
     "metadata": {},
     "output_type": "execute_result"
    }
   ],
   "source": [
    "death_model = LinearRegression(fit_intercept=True, normalize=True, copy_X=True, n_jobs=None)\n",
    "death_model.fit(X_train, y_train)"
   ]
  },
  {
   "cell_type": "code",
   "execution_count": 195,
   "metadata": {},
   "outputs": [
    {
     "name": "stdout",
     "output_type": "stream",
     "text": [
      "model Intercept:  0.5690363151180122\n",
      "model:  [ 1.20378001e+00 -4.56207224e-04 -1.54757595e-02]\n"
     ]
    }
   ],
   "source": [
    "print(\"model Intercept: \", death_model.intercept_)\n",
    "print(\"model: \", death_model.coef_)"
   ]
  },
  {
   "cell_type": "code",
   "execution_count": 196,
   "metadata": {},
   "outputs": [
    {
     "name": "stdout",
     "output_type": "stream",
     "text": [
      "Training Score is:  0.9026241176793954\n",
      "Testing  Score is:  0.9932416960025057\n"
     ]
    }
   ],
   "source": [
    "# get prediction score on trainning and test data\n",
    "print(\"Training Score is: \", death_model.score(X_train, y_train))\n",
    "print(\"Testing  Score is: \", death_model.score(X_test, y_test))"
   ]
  },
  {
   "cell_type": "code",
   "execution_count": 197,
   "metadata": {},
   "outputs": [
    {
     "name": "stdout",
     "output_type": "stream",
     "text": [
      "Training Model MSE is:  2712.0723970250556\n",
      "Testing Model MSE is :  132.60571717031735\n"
     ]
    }
   ],
   "source": [
    "# model MSE\n",
    "train_model_mse = mean_squared_error(death_model.predict(X_train),y_train)\n",
    "test_model_mse = mean_squared_error(death_model.predict(X_test),y_test)\n",
    "\n",
    "print(\"Training Model MSE is: \", train_model_mse)\n",
    "print(\"Testing Model MSE is : \", test_model_mse)"
   ]
  },
  {
   "cell_type": "code",
   "execution_count": 198,
   "metadata": {},
   "outputs": [],
   "source": [
    "# first generate prediction over train and test featrues the reduce them to the new dimension.\n",
    "train_predicted = death_model.predict(X_train)\n",
    "test_predicted = death_model.predict(X_test)\n",
    "\n",
    "# Using PCA to reduce features dimention.\n",
    "pca_reduction = PCA(n_components=1).fit(X)\n",
    "X_train = pca_reduction.transform(X_train)\n",
    "X_test = pca_reduction.transform(X_test)"
   ]
  },
  {
   "cell_type": "code",
   "execution_count": 199,
   "metadata": {},
   "outputs": [
    {
     "data": {
      "image/png": "[encoded data removed]",
      "text/plain": [
       "<Figure size 720x360 with 2 Axes>"
      ]
     },
     "metadata": {
      "needs_background": "light"
     },
     "output_type": "display_data"
    }
   ],
   "source": [
    "plt.figure(figsize=(10, 5))\n",
    "plt.subplot(1, 2, 1)\n",
    "plt.scatter(X_train, y_train, color=\"b\")\n",
    "plt.scatter(X_train, train_predicted, color=\"r\")\n",
    "plt.legend([\"Train\", \"Pretict\"], loc=\"upper left\")\n",
    "plt.title(\"Death Train\")\n",
    "\n",
    "plt.subplot(1, 2, 2)\n",
    "plt.scatter(X_test, y_test, color=\"b\")\n",
    "plt.scatter(X_test, test_predicted, color=\"r\")\n",
    "plt.legend([\"Test\", \"Pretict\"], loc=\"upper left\")\n",
    "plt.title(\"Death Test\")\n",
    "\n",
    "plt.show()"
   ]
  },
  {
   "cell_type": "markdown",
   "metadata": {},
   "source": [
    "### we will use all of the three feature to buld a mode for predecting future confirm.\n",
    "\n",
    "#### $NextDayConfirm = \\left(\\alpha \\times TodayDeath\\right) + \\left(\\beta \\times TodayRecover\\right) + \\left(\\gamma \\times TodayConfirm\\right)$"
   ]
  },
  {
   "cell_type": "code",
   "execution_count": 200,
   "metadata": {},
   "outputs": [],
   "source": [
    "X_train, X_test, y_train, y_test = train_test_split(X, Y[:, 1], test_size=0.2, random_state=42)"
   ]
  },
  {
   "cell_type": "code",
   "execution_count": 201,
   "metadata": {},
   "outputs": [
    {
     "data": {
      "text/plain": [
       "LinearRegression(copy_X=True, fit_intercept=True, n_jobs=None, normalize=True)"
      ]
     },
     "execution_count": 201,
     "metadata": {},
     "output_type": "execute_result"
    }
   ],
   "source": [
    "confirm_model = LinearRegression(fit_intercept=True, normalize=True, copy_X=True, n_jobs=None)\n",
    "confirm_model.fit(X_train, y_train)"
   ]
  },
  {
   "cell_type": "code",
   "execution_count": 202,
   "metadata": {},
   "outputs": [
    {
     "name": "stdout",
     "output_type": "stream",
     "text": [
      "model Intercept:  18.5613262692101\n",
      "model:  [ 3.99135063  0.99851844 -0.35364907]\n"
     ]
    }
   ],
   "source": [
    "print(\"model Intercept: \", confirm_model.intercept_)\n",
    "print(\"model: \", confirm_model.coef_)"
   ]
  },
  {
   "cell_type": "code",
   "execution_count": 203,
   "metadata": {},
   "outputs": [
    {
     "name": "stdout",
     "output_type": "stream",
     "text": [
      "Training Score is:  0.9210558184901497\n",
      "Testing  Score is:  0.9930107160061409\n"
     ]
    }
   ],
   "source": [
    "# get prediction score on trainning and test data\n",
    "print(\"Training Score is: \", confirm_model.score(X_train, y_train))\n",
    "print(\"Testing  Score is: \", confirm_model.score(X_test, y_test))"
   ]
  },
  {
   "cell_type": "code",
   "execution_count": 204,
   "metadata": {},
   "outputs": [
    {
     "name": "stdout",
     "output_type": "stream",
     "text": [
      "Training Model MSE is:  1819473.1598521913\n",
      "Testing Model MSE is :  140197.085170163\n"
     ]
    }
   ],
   "source": [
    "# model MSE\n",
    "train_model_mse = mean_squared_error(confirm_model.predict(X_train), y_train)\n",
    "test_model_mse = mean_squared_error(confirm_model.predict(X_test), y_test)\n",
    "\n",
    "print(\"Training Model MSE is: \", train_model_mse)\n",
    "print(\"Testing Model MSE is : \", test_model_mse)"
   ]
  },
  {
   "cell_type": "code",
   "execution_count": 205,
   "metadata": {},
   "outputs": [],
   "source": [
    "# first generate prediction over train and test featrues the reduce them to the new dimension.\n",
    "train_predicted = confirm_model.predict(X_train)\n",
    "test_predicted = confirm_model.predict(X_test)\n",
    "\n",
    "# Using PCA to reduce features dimention.\n",
    "pca_reduction = PCA(n_components=1).fit(X)\n",
    "X_train = pca_reduction.transform(X_train)\n",
    "X_test = pca_reduction.transform(X_test)"
   ]
  },
  {
   "cell_type": "code",
   "execution_count": 206,
   "metadata": {},
   "outputs": [
    {
     "data": {
      "image/png": "[encoded data removed]",
      "text/plain": [
       "<Figure size 720x360 with 2 Axes>"
      ]
     },
     "metadata": {
      "needs_background": "light"
     },
     "output_type": "display_data"
    }
   ],
   "source": [
    "plt.figure(figsize=(10, 5))\n",
    "plt.subplot(1, 2, 1)\n",
    "plt.scatter(X_train, y_train, color=\"b\")\n",
    "plt.scatter(X_train, train_predicted, color=\"r\")\n",
    "plt.legend([\"Train\", \"Pretict\"], loc=\"upper left\")\n",
    "plt.title(\"Death Train\")\n",
    "\n",
    "plt.subplot(1, 2, 2)\n",
    "plt.scatter(X_test, y_test, color=\"b\")\n",
    "plt.scatter(X_test, test_predicted, color=\"r\")\n",
    "plt.legend([\"Test\", \"Pretict\"], loc=\"upper left\")\n",
    "plt.title(\"Death Test\")\n",
    "\n",
    "plt.show()"
   ]
  },
  {
   "cell_type": "markdown",
   "metadata": {},
   "source": [
    "## we will use all of the three feature to buld a mode for predecting future Recover.\n",
    "\n",
    "#### $NextDayRecover = \\left(\\alpha \\times TodayDeath\\right) + \\left(\\beta \\times TodayRecover\\right) + \\left(\\gamma \\times TodayConfirm\\right)$"
   ]
  },
  {
   "cell_type": "code",
   "execution_count": 207,
   "metadata": {},
   "outputs": [],
   "source": [
    "X_train, X_test, y_train, y_test = train_test_split(X, Y[:, 2], test_size=0.2, random_state=42)"
   ]
  },
  {
   "cell_type": "code",
   "execution_count": 208,
   "metadata": {},
   "outputs": [
    {
     "data": {
      "text/plain": [
       "LinearRegression(copy_X=True, fit_intercept=True, n_jobs=None, normalize=True)"
      ]
     },
     "execution_count": 208,
     "metadata": {},
     "output_type": "execute_result"
    }
   ],
   "source": [
    "recover_model = LinearRegression(fit_intercept=True, normalize=True, copy_X=True, n_jobs=None)\n",
    "recover_model.fit(X_train, y_train)"
   ]
  },
  {
   "cell_type": "code",
   "execution_count": 209,
   "metadata": {},
   "outputs": [
    {
     "name": "stdout",
     "output_type": "stream",
     "text": [
      "model Intercept:  6.56197928417663\n",
      "model:  [ 3.27664103 -0.00775807  0.76477881]\n"
     ]
    }
   ],
   "source": [
    "print(\"model Intercept: \", recover_model.intercept_)\n",
    "print(\"model: \", recover_model.coef_)"
   ]
  },
  {
   "cell_type": "code",
   "execution_count": 210,
   "metadata": {},
   "outputs": [
    {
     "name": "stdout",
     "output_type": "stream",
     "text": [
      "Training Score is:  0.8442110261268011\n",
      "Testing  Score is:  0.9904033731963904\n"
     ]
    }
   ],
   "source": [
    "# get prediction score on trainning and test data\n",
    "print(\"Training Score is: \", recover_model.score(X_train, y_train))\n",
    "print(\"Testing  Score is: \", recover_model.score(X_test, y_test))"
   ]
  },
  {
   "cell_type": "code",
   "execution_count": 211,
   "metadata": {},
   "outputs": [
    {
     "name": "stdout",
     "output_type": "stream",
     "text": [
      "Training Model MSE is:  1025506.971724827\n",
      "Testing Model MSE is :  31374.096586878808\n"
     ]
    }
   ],
   "source": [
    "# model MSE\n",
    "train_model_mse = mean_squared_error(recover_model.predict(X_train),y_train)\n",
    "test_model_mse = mean_squared_error(recover_model.predict(X_test),y_test)\n",
    "\n",
    "print(\"Training Model MSE is: \", train_model_mse)\n",
    "print(\"Testing Model MSE is : \", test_model_mse)"
   ]
  },
  {
   "cell_type": "code",
   "execution_count": 212,
   "metadata": {},
   "outputs": [],
   "source": [
    "# first generate prediction over train and test featrues the reduce them to the new dimension.\n",
    "train_predicted = recover_model.predict(X_train)\n",
    "test_predicted = recover_model.predict(X_test)\n",
    "\n",
    "# Using PCA to reduce features dimention.\n",
    "pca_reduction = PCA(n_components=1).fit(X)\n",
    "X_train = pca_reduction.transform(X_train)\n",
    "X_test = pca_reduction.transform(X_test)"
   ]
  },
  {
   "cell_type": "code",
   "execution_count": 213,
   "metadata": {},
   "outputs": [
    {
     "data": {
      "image/png": "[encoded data removed]",
      "text/plain": [
       "<Figure size 720x360 with 2 Axes>"
      ]
     },
     "metadata": {
      "needs_background": "light"
     },
     "output_type": "display_data"
    }
   ],
   "source": [
    "plt.figure(figsize=(10, 5))\n",
    "plt.subplot(1, 2, 1)\n",
    "plt.scatter(X_train, y_train, color=\"b\")\n",
    "plt.scatter(X_train, train_predicted, color=\"r\")\n",
    "plt.legend([\"Train\", \"Pretict\"], loc=\"upper left\")\n",
    "plt.title(\"Death Train\")\n",
    "\n",
    "plt.subplot(1, 2, 2)\n",
    "plt.scatter(X_test, y_test, color=\"b\")\n",
    "plt.scatter(X_test, test_predicted, color=\"r\")\n",
    "plt.legend([\"Test\", \"Pretict\"], loc=\"upper left\")\n",
    "plt.title(\"Death Test\")\n",
    "\n",
    "plt.show()"
   ]
  },
  {
   "cell_type": "markdown",
   "metadata": {},
   "source": [
    "# 2. Polynomial predicion"
   ]
  },
  {
   "cell_type": "markdown",
   "metadata": {},
   "source": [
    "## 2.1 Polynomial prediction using all features to predict number of deaths in the future"
   ]
  },
  {
   "cell_type": "code",
   "execution_count": 214,
   "metadata": {},
   "outputs": [
    {
     "data": {
      "text/plain": [
       "(8892, 10)"
      ]
     },
     "execution_count": 214,
     "metadata": {},
     "output_type": "execute_result"
    }
   ],
   "source": [
    "poly_features = PolynomialFeatures(degree=2)\n",
    "X_ = poly_features.fit_transform(X)\n",
    "X_.shape"
   ]
  },
  {
   "cell_type": "code",
   "execution_count": 215,
   "metadata": {},
   "outputs": [],
   "source": [
    "X_train, X_test, y_train, y_test = train_test_split(X_, Y[:, 0], test_size=0.2, random_state=42)"
   ]
  },
  {
   "cell_type": "code",
   "execution_count": 216,
   "metadata": {},
   "outputs": [
    {
     "data": {
      "text/plain": [
       "LinearRegression(copy_X=True, fit_intercept=False, n_jobs=None, normalize=True)"
      ]
     },
     "execution_count": 216,
     "metadata": {},
     "output_type": "execute_result"
    }
   ],
   "source": [
    "death_model = LinearRegression(fit_intercept=False, normalize=True, copy_X=True, n_jobs=None)\n",
    "death_model.fit(X_train, y_train)"
   ]
  },
  {
   "cell_type": "code",
   "execution_count": 217,
   "metadata": {},
   "outputs": [
    {
     "name": "stdout",
     "output_type": "stream",
     "text": [
      "model Intercept:  0.0\n",
      "model:  [ 5.92428803e-01  1.43742784e+00  1.04615926e-03 -7.38935491e-02\n",
      " -1.57824788e-04 -9.05666917e-07 -4.35320713e-05 -1.35740108e-07\n",
      "  2.92016733e-06 -1.98004586e-07]\n"
     ]
    }
   ],
   "source": [
    "print(\"model Intercept: \", death_model.intercept_)\n",
    "print(\"model: \", death_model.coef_)"
   ]
  },
  {
   "cell_type": "code",
   "execution_count": 218,
   "metadata": {},
   "outputs": [
    {
     "name": "stdout",
     "output_type": "stream",
     "text": [
      "Training Score is:  0.9039022881714199\n",
      "Testing  Score is:  0.9947747315240368\n"
     ]
    }
   ],
   "source": [
    "# get prediction score on trainning and test data\n",
    "print(\"Training Score is: \", death_model.score(X_train, y_train))\n",
    "print(\"Testing  Score is: \", death_model.score(X_test, y_test))"
   ]
  },
  {
   "cell_type": "code",
   "execution_count": 219,
   "metadata": {},
   "outputs": [
    {
     "name": "stdout",
     "output_type": "stream",
     "text": [
      "Training Model MSE is:  2676.473326418453\n",
      "Testing Model MSE is :  102.5257925537916\n"
     ]
    }
   ],
   "source": [
    "# model MSE\n",
    "train_model_mse = mean_squared_error(death_model.predict(X_train),y_train)\n",
    "test_model_mse = mean_squared_error(death_model.predict(X_test),y_test)\n",
    "\n",
    "print(\"Training Model MSE is: \", train_model_mse)\n",
    "print(\"Testing Model MSE is : \", test_model_mse)"
   ]
  },
  {
   "cell_type": "code",
   "execution_count": 220,
   "metadata": {},
   "outputs": [],
   "source": [
    "# first generate prediction over train and test featrues the reduce them to the new dimension.\n",
    "train_predicted = death_model.predict(X_train)\n",
    "test_predicted = death_model.predict(X_test)\n",
    "\n",
    "# Using PCA to reduce features dimention.\n",
    "pca_reduction = PCA(n_components=1).fit(X_)\n",
    "X_train = pca_reduction.transform(X_train)\n",
    "X_test = pca_reduction.transform(X_test)"
   ]
  },
  {
   "cell_type": "code",
   "execution_count": 221,
   "metadata": {},
   "outputs": [
    {
     "data": {
      "image/png": "[encoded data removed]",
      "text/plain": [
       "<Figure size 720x360 with 2 Axes>"
      ]
     },
     "metadata": {
      "needs_background": "light"
     },
     "output_type": "display_data"
    }
   ],
   "source": [
    "plt.figure(figsize=(10, 5))\n",
    "plt.subplot(1, 2, 1)\n",
    "plt.scatter(X_train, y_train, color=\"b\")\n",
    "plt.scatter(X_train, train_predicted, color=\"r\")\n",
    "plt.legend([\"Train\", \"Pretict\"], loc=\"upper left\")\n",
    "plt.title(\"Death Train\")\n",
    "\n",
    "plt.subplot(1, 2, 2)\n",
    "plt.scatter(X_test, y_test, color=\"b\")\n",
    "plt.scatter(X_test, test_predicted, color=\"r\")\n",
    "plt.legend([\"Test\", \"Pretict\"], loc=\"upper left\")\n",
    "plt.title(\"Death Test\")\n",
    "\n",
    "plt.show()"
   ]
  },
  {
   "cell_type": "markdown",
   "metadata": {},
   "source": [
    "## 2.2 Polynomial prediction using all features to predict number of confirms in the future"
   ]
  },
  {
   "cell_type": "code",
   "execution_count": 222,
   "metadata": {},
   "outputs": [
    {
     "data": {
      "text/plain": [
       "(8892, 10)"
      ]
     },
     "execution_count": 222,
     "metadata": {},
     "output_type": "execute_result"
    }
   ],
   "source": [
    "poly_features = PolynomialFeatures(degree=2)\n",
    "X_ = poly_features.fit_transform(X)\n",
    "X_.shape"
   ]
  },
  {
   "cell_type": "code",
   "execution_count": 223,
   "metadata": {},
   "outputs": [],
   "source": [
    "X_train, X_test, y_train, y_test = train_test_split(X_, Y[:, 1], test_size=0.2, random_state=42)"
   ]
  },
  {
   "cell_type": "code",
   "execution_count": 224,
   "metadata": {},
   "outputs": [
    {
     "data": {
      "text/plain": [
       "LinearRegression(copy_X=True, fit_intercept=False, n_jobs=None, normalize=True)"
      ]
     },
     "execution_count": 224,
     "metadata": {},
     "output_type": "execute_result"
    }
   ],
   "source": [
    "confirm_model = LinearRegression(fit_intercept=False, normalize=True, copy_X=True, n_jobs=None)\n",
    "confirm_model.fit(X_train, y_train)"
   ]
  },
  {
   "cell_type": "code",
   "execution_count": 225,
   "metadata": {},
   "outputs": [
    {
     "name": "stdout",
     "output_type": "stream",
     "text": [
      "model Intercept:  0.0\n",
      "model:  [ 1.97069945e+01  1.43819075e+01  9.80137053e-01 -2.51981766e+00\n",
      " -7.95649320e-03 -2.96396254e-05  1.96386281e-04 -4.80229859e-07\n",
      "  4.60074454e-05 -2.04317626e-05]\n"
     ]
    }
   ],
   "source": [
    "print(\"model Intercept: \", confirm_model.intercept_)\n",
    "print(\"model: \", confirm_model.coef_)"
   ]
  },
  {
   "cell_type": "code",
   "execution_count": 226,
   "metadata": {},
   "outputs": [
    {
     "name": "stdout",
     "output_type": "stream",
     "text": [
      "Training Score is:  0.9220586722239336\n",
      "Testing  Score is:  0.9932852649221909\n"
     ]
    }
   ],
   "source": [
    "# get prediction score on trainning and test data\n",
    "print(\"Training Score is: \", confirm_model.score(X_train, y_train))\n",
    "print(\"Testing  Score is: \", confirm_model.score(X_test, y_test))"
   ]
  },
  {
   "cell_type": "code",
   "execution_count": 227,
   "metadata": {},
   "outputs": [
    {
     "name": "stdout",
     "output_type": "stream",
     "text": [
      "Training Model MSE is:  1796359.7977654666\n",
      "Testing Model MSE is :  134689.94627000453\n"
     ]
    }
   ],
   "source": [
    "# model MSE\n",
    "train_model_mse = mean_squared_error(confirm_model.predict(X_train),y_train)\n",
    "test_model_mse = mean_squared_error(confirm_model.predict(X_test),y_test)\n",
    "\n",
    "print(\"Training Model MSE is: \", train_model_mse)\n",
    "print(\"Testing Model MSE is : \", test_model_mse)"
   ]
  },
  {
   "cell_type": "code",
   "execution_count": 228,
   "metadata": {},
   "outputs": [],
   "source": [
    "# first generate prediction over train and test featrues the reduce them to the new dimension.\n",
    "train_predicted = confirm_model.predict(X_train)\n",
    "test_predicted = confirm_model.predict(X_test)\n",
    "\n",
    "# Using PCA to reduce features dimention.\n",
    "pca_reduction = PCA(n_components=1).fit(X_)\n",
    "X_train = pca_reduction.transform(X_train)\n",
    "X_test = pca_reduction.transform(X_test)"
   ]
  },
  {
   "cell_type": "code",
   "execution_count": 229,
   "metadata": {},
   "outputs": [
    {
     "data": {
      "image/png": "[encoded data removed]",
      "text/plain": [
       "<Figure size 720x360 with 2 Axes>"
      ]
     },
     "metadata": {
      "needs_background": "light"
     },
     "output_type": "display_data"
    }
   ],
   "source": [
    "plt.figure(figsize=(10, 5))\n",
    "plt.subplot(1, 2, 1)\n",
    "plt.scatter(X_train, y_train, color=\"b\")\n",
    "plt.scatter(X_train, train_predicted, color=\"r\")\n",
    "plt.legend([\"Train\", \"Pretict\"], loc=\"upper left\")\n",
    "plt.title(\"Death Train\")\n",
    "\n",
    "plt.subplot(1, 2, 2)\n",
    "plt.scatter(X_test, y_test, color=\"b\")\n",
    "plt.scatter(X_test, test_predicted, color=\"r\")\n",
    "plt.legend([\"Test\", \"Pretict\"], loc=\"upper left\")\n",
    "plt.title(\"Death Test\")\n",
    "\n",
    "plt.show()"
   ]
  },
  {
   "cell_type": "markdown",
   "metadata": {},
   "source": [
    "# predict the futrue of death using the linear model and all three features and more past information."
   ]
  },
  {
   "cell_type": "code",
   "execution_count": 230,
   "metadata": {},
   "outputs": [],
   "source": [
    "num_rows = death.shape[0] - 1\n",
    "num_cols = death.shape[1]\n",
    "num_past_inform = 5  # We just use five past date that have been reported.\n",
    "\n",
    "X = np.zeros((num_rows*num_cols-num_past_inform, 3*num_past_inform))\n",
    "Y = np.zeros((num_rows*num_cols-num_past_inform, 3))\n",
    "\n",
    "# First num_past_inform of X columns is related to death and Second part is for confirm and then The last part is for recovfer.\n",
    "for j in range(num_cols):\n",
    "    for i in range(num_rows-num_past_inform):\n",
    "        X[j*(num_rows-num_past_inform)+i, 0*num_past_inform:1*num_past_inform] = death.iloc[i:i+num_past_inform, j].values\n",
    "        X[j*(num_rows-num_past_inform)+i, 1*num_past_inform:2*num_past_inform] = confirm.iloc[i:i+num_past_inform, j].values\n",
    "        X[j*(num_rows-num_past_inform)+i, 2*num_past_inform:3*num_past_inform] = recover.iloc[i:i+num_past_inform, j].values\n",
    "    \n",
    "        Y[j*(num_rows-num_past_inform)+i, 0] = death.iloc[i+num_past_inform, j]\n",
    "        Y[j*(num_rows-num_past_inform)+i, 1] = confirm.iloc[i+num_past_inform, j]\n",
    "        Y[j*(num_rows-num_past_inform)+i, 2] = recover.iloc[i+num_past_inform, j]"
   ]
  },
  {
   "cell_type": "code",
   "execution_count": 231,
   "metadata": {},
   "outputs": [],
   "source": [
    "X_train, X_test, y_train, y_test = train_test_split(X, Y[:, 0], test_size=0.2, random_state=42)"
   ]
  },
  {
   "cell_type": "code",
   "execution_count": 232,
   "metadata": {},
   "outputs": [
    {
     "data": {
      "text/plain": [
       "LinearRegression(copy_X=True, fit_intercept=False, n_jobs=None, normalize=True)"
      ]
     },
     "execution_count": 232,
     "metadata": {},
     "output_type": "execute_result"
    }
   ],
   "source": [
    "model = LinearRegression(fit_intercept=False, normalize=True, copy_X=True, n_jobs=None)\n",
    "model.fit(X_train, y_train)"
   ]
  },
  {
   "cell_type": "code",
   "execution_count": 233,
   "metadata": {},
   "outputs": [
    {
     "name": "stdout",
     "output_type": "stream",
     "text": [
      "model Intercept:  0.0\n",
      "model:  [ 0.53731995 -1.62875145  1.36925764  0.60753018  0.53220368 -0.01283861\n",
      "  0.02209114 -0.01657731 -0.00379103  0.00538156  0.01741834  0.08471776\n",
      " -0.10381738 -0.02643629  0.01731021]\n"
     ]
    }
   ],
   "source": [
    "print(\"model Intercept: \", model.intercept_)\n",
    "print(\"model: \", model.coef_)"
   ]
  },
  {
   "cell_type": "code",
   "execution_count": 234,
   "metadata": {},
   "outputs": [
    {
     "name": "stdout",
     "output_type": "stream",
     "text": [
      "Training Score is:  0.9396042218664156\n",
      "Testing  Score is:  0.7927350499210601\n"
     ]
    }
   ],
   "source": [
    "# get prediction score on trainning and test data\n",
    "print(\"Training Score is: \", model.score(X_train, y_train))\n",
    "print(\"Testing  Score is: \", model.score(X_test, y_test))"
   ]
  },
  {
   "cell_type": "code",
   "execution_count": 235,
   "metadata": {},
   "outputs": [
    {
     "name": "stdout",
     "output_type": "stream",
     "text": [
      "Training Model MSE is:  1455.2709098290536\n",
      "Testing Model MSE is :  5729.345616609367\n"
     ]
    }
   ],
   "source": [
    "# model MSE\n",
    "train_model_mse = mean_squared_error(model.predict(X_train),y_train)\n",
    "test_model_mse = mean_squared_error(model.predict(X_test),y_test)\n",
    "\n",
    "print(\"Training Model MSE is: \", train_model_mse)\n",
    "print(\"Testing Model MSE is : \", test_model_mse)"
   ]
  },
  {
   "cell_type": "code",
   "execution_count": 236,
   "metadata": {},
   "outputs": [],
   "source": [
    "# first generate prediction over train and test featrues the reduce them to the new dimension.\n",
    "train_predicted = model.predict(X_train)\n",
    "test_predicted = model.predict(X_test)\n",
    "\n",
    "# Using PCA to reduce features dimention.\n",
    "pca_reduction = PCA(n_components=1).fit(X)\n",
    "X_train = pca_reduction.transform(X_train)\n",
    "X_test = pca_reduction.transform(X_test)"
   ]
  },
  {
   "cell_type": "code",
   "execution_count": 237,
   "metadata": {},
   "outputs": [
    {
     "data": {
      "image/png": "[encoded data removed]",
      "text/plain": [
       "<Figure size 720x360 with 2 Axes>"
      ]
     },
     "metadata": {
      "needs_background": "light"
     },
     "output_type": "display_data"
    }
   ],
   "source": [
    "plt.figure(figsize=(10, 5))\n",
    "plt.subplot(1, 2, 1)\n",
    "plt.scatter(X_train, y_train, color=\"b\")\n",
    "plt.scatter(X_train, train_predicted, color=\"r\")\n",
    "plt.legend([\"Train\", \"Pretict\"], loc=\"upper left\")\n",
    "plt.title(\"Death Train\")\n",
    "\n",
    "plt.subplot(1, 2, 2)\n",
    "plt.scatter(X_test, y_test, color=\"b\")\n",
    "plt.scatter(X_test, test_predicted, color=\"r\")\n",
    "plt.legend([\"Test\", \"Pretict\"], loc=\"upper left\")\n",
    "plt.title(\"Death Test\")\n",
    "\n",
    "plt.show()"
   ]
  },
  {
   "cell_type": "code",
   "execution_count": null,
   "metadata": {},
   "outputs": [],
   "source": []
  }
 ],
 "metadata": {
  "kernelspec": {
   "display_name": "Python 3",
   "language": "python",
   "name": "python3"
  },
  "language_info": {
   "codemirror_mode": {
    "name": "ipython",
    "version": 3
   },
   "file_extension": ".py",
   "mimetype": "text/x-python",
   "name": "python",
   "nbconvert_exporter": "python",
   "pygments_lexer": "ipython3",
   "version": "3.7.4"
  },
  "toc": {
   "base_numbering": 1,
   "nav_menu": {},
   "number_sections": false,
   "sideBar": true,
   "skip_h1_title": false,
   "title_cell": "Table of Contents",
   "title_sidebar": "Contents",
   "toc_cell": false,
   "toc_position": {
    "height": "calc(100% - 180px)",
    "left": "10px",
    "top": "150px",
    "width": "165px"
   },
   "toc_section_display": true,
   "toc_window_display": true
  }
 },
 "nbformat": 4,
 "nbformat_minor": 2
}
